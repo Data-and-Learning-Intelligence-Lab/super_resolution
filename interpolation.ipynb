{
 "cells": [
  {
   "cell_type": "code",
   "execution_count": null,
   "metadata": {},
   "outputs": [],
   "source": [
    "import cv2\n",
    "from PIL import Image\n",
    "\n",
    "img = cv2.imread(\"/home/ubuntu/super_resolution/input_img/S1_03_03_02_00.png\")\n",
    "print(img.shape)"
   ]
  },
  {
   "cell_type": "markdown",
   "metadata": {},
   "source": [
    "1. Nearest Neighbour Interpolation"
   ]
  },
  {
   "cell_type": "code",
   "execution_count": null,
   "metadata": {},
   "outputs": [],
   "source": [
    "nn_img = cv2.resize(img,None, fx = 2, fy = 2, interpolation = cv2.INTER_NEAREST)\n",
    "print(nn_img.shape)\n",
    "\n",
    "nn_img = Image.fromarray(nn_img)\n",
    "nn_img"
   ]
  },
  {
   "cell_type": "markdown",
   "metadata": {},
   "source": [
    "2. Bilinear Interpolation"
   ]
  },
  {
   "cell_type": "code",
   "execution_count": null,
   "metadata": {},
   "outputs": [],
   "source": [
    "bilinear_img = cv2.resize(img,None, fx = 20, fy = 20, interpolation = cv2.INTER_LINEAR)\n",
    "print(bilinear_img.shape)\n",
    "\n",
    "bilinear_img = Image.fromarray(bilinear_img)\n",
    "bilinear_img"
   ]
  },
  {
   "cell_type": "markdown",
   "metadata": {},
   "source": [
    "3. Bicubic Interpolation"
   ]
  },
  {
   "cell_type": "code",
   "execution_count": null,
   "metadata": {},
   "outputs": [],
   "source": [
    "bicubic_img = cv2.resize(img,None, fx = 20, fy = 20, interpolation = cv2.INTER_CUBIC)\n",
    "print(bicubic_img.shape)\n",
    "\n",
    "bicubic_img = Image.fromarray(bicubic_img)\n",
    "bicubic_img"
   ]
  }
 ],
 "metadata": {
  "kernelspec": {
   "display_name": "Python 3",
   "language": "python",
   "name": "python3"
  },
  "language_info": {
   "codemirror_mode": {
    "name": "ipython",
    "version": 3
   },
   "file_extension": ".py",
   "mimetype": "text/x-python",
   "name": "python",
   "nbconvert_exporter": "python",
   "pygments_lexer": "ipython3",
   "version": "3.10.12"
  },
  "orig_nbformat": 4
 },
 "nbformat": 4,
 "nbformat_minor": 2
}
