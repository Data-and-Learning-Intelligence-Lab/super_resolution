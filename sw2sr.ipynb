{
 "cells": [
  {
   "cell_type": "code",
   "execution_count": null,
   "metadata": {},
   "outputs": [],
   "source": [
    "# !pip install transformers"
   ]
  },
  {
   "cell_type": "markdown",
   "metadata": {},
   "source": [
    "1. Define preprocessor and model"
   ]
  },
  {
   "cell_type": "code",
   "execution_count": null,
   "metadata": {},
   "outputs": [],
   "source": [
    "from transformers import AutoImageProcessor, Swin2SRImageProcessor, Swin2SRForImageSuperResolution\n",
    "\n",
    "processor = Swin2SRImageProcessor()\n",
    "# processor = AutoImageProcessor.from_pretrained(\"caidas/swin2SR-classical-sr-x2-64\")\n",
    "model = Swin2SRForImageSuperResolution.from_pretrained(\"caidas/swin2SR-classical-sr-x2-64\")"
   ]
  },
  {
   "cell_type": "markdown",
   "metadata": {},
   "source": [
    "2. Load image and do preprocessing"
   ]
  },
  {
   "cell_type": "code",
   "execution_count": null,
   "metadata": {},
   "outputs": [],
   "source": [
    "from PIL import Image\n",
    "\n",
    "img = Image.open(\"/home/ubuntu/super_resolution/input_img/S1_03_03_02_00.png\")\n",
    "img_px = processor(img, return_tensors=\"pt\").pixel_values\n",
    "\n",
    "print(img_px.shape)"
   ]
  },
  {
   "cell_type": "markdown",
   "metadata": {},
   "source": [
    "3. Feed the preprocessed image into pretrained SW2 model"
   ]
  },
  {
   "cell_type": "code",
   "execution_count": 31,
   "metadata": {},
   "outputs": [],
   "source": [
    "import torch\n",
    "\n",
    "with torch.no_grad():\n",
    "    img_sr = model(img_px)\n",
    "\n",
    "img_sr.reconstruction.shape"
   ]
  },
  {
   "cell_type": "markdown",
   "metadata": {},
   "source": [
    "4. Convert output tensor to image"
   ]
  },
  {
   "cell_type": "code",
   "execution_count": 33,
   "metadata": {},
   "outputs": [],
   "source": [
    "import numpy as np\n",
    "\n",
    "img_sr = img_sr.reconstruction.data.squeeze().float().cpu().clamp(0, 1).numpy()\n",
    "img_sr = np.moveaxis(img_sr, source=0, destination=-1)\n",
    "img_sr = (img_sr * 255.0).round().astype(np.uint8) # float32 to unit8\n",
    "img_sr = Image.fromarray(img_sr)"
   ]
  }
 ],
 "metadata": {
  "kernelspec": {
   "display_name": "Python 3",
   "language": "python",
   "name": "python3"
  },
  "language_info": {
   "codemirror_mode": {
    "name": "ipython",
    "version": 3
   },
   "file_extension": ".py",
   "mimetype": "text/x-python",
   "name": "python",
   "nbconvert_exporter": "python",
   "pygments_lexer": "ipython3",
   "version": "3.10.12"
  },
  "orig_nbformat": 4
 },
 "nbformat": 4,
 "nbformat_minor": 2
}
