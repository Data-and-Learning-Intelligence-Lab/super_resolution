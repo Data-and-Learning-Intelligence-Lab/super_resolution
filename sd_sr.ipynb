{
 "cells": [
  {
   "cell_type": "code",
   "execution_count": 10,
   "metadata": {},
   "outputs": [],
   "source": [
    "from PIL import Image\n",
    "from diffusers import StableDiffusionUpscalePipeline\n",
    "import torch"
   ]
  },
  {
   "cell_type": "markdown",
   "metadata": {},
   "source": [
    "1. read image"
   ]
  },
  {
   "cell_type": "code",
   "execution_count": null,
   "metadata": {},
   "outputs": [],
   "source": [
    "from PIL import Image\n",
    "import numpy as np\n",
    "img = Image.open(\"/home/ubuntu/super_resolution/input_img/S1_03_03_02_00.png\").convert(\"RGB\")\n",
    "print(np.asarray(img).shape)"
   ]
  },
  {
   "cell_type": "markdown",
   "metadata": {},
   "source": [
    "2.  define mode and pipeline"
   ]
  },
  {
   "cell_type": "code",
   "execution_count": null,
   "metadata": {},
   "outputs": [],
   "source": [
    "model_id = \"stabilityai/stable-diffusion-x4-upscaler\"\n",
    "device = \"cuda\" if torch.cuda.is_available() else \"cpu\"\n",
    "\n",
    "pipeline = StableDiffusionUpscalePipeline.from_pretrained(\n",
    "    model_id,\n",
    "    revision=\"fp16\",\n",
    "    torch_dtype=torch.float16\n",
    ")\n",
    "pipeline = pipeline.to(device)"
   ]
  },
  {
   "cell_type": "markdown",
   "metadata": {},
   "source": [
    "3. output super resolution image"
   ]
  },
  {
   "cell_type": "code",
   "execution_count": null,
   "metadata": {},
   "outputs": [],
   "source": [
    "torch.cuda.empty_cache()\n",
    "prompt = \"super high quality\"\n",
    "negative_prompt = \"low quality, blur\"\n",
    "guidance_scale = 20\n",
    "num_inference_steps = 50\n",
    "\n",
    "img_sr = pipeline(\n",
    "    prompt=prompt, \n",
    "    negative_prompt=negative_prompt,\n",
    "    num_inference_steps=num_inference_steps,\n",
    "    image=img,\n",
    "    guidance_scale=guidance_scale\n",
    "    ).images[0]"
   ]
  }
 ],
 "metadata": {
  "kernelspec": {
   "display_name": "Python 3",
   "language": "python",
   "name": "python3"
  },
  "language_info": {
   "codemirror_mode": {
    "name": "ipython",
    "version": 3
   },
   "file_extension": ".py",
   "mimetype": "text/x-python",
   "name": "python",
   "nbconvert_exporter": "python",
   "pygments_lexer": "ipython3",
   "version": "3.10.12"
  },
  "orig_nbformat": 4
 },
 "nbformat": 4,
 "nbformat_minor": 2
}
